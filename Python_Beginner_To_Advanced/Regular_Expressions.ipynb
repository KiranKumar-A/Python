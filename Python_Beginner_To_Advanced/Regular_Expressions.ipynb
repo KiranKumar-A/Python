{
 "cells": [
  {
   "cell_type": "code",
   "execution_count": 1,
   "metadata": {
    "collapsed": true
   },
   "outputs": [],
   "source": [
    "#Regular Expressions"
   ]
  },
  {
   "cell_type": "code",
   "execution_count": 4,
   "metadata": {},
   "outputs": [],
   "source": [
    "import re"
   ]
  },
  {
   "cell_type": "code",
   "execution_count": 5,
   "metadata": {},
   "outputs": [
    {
     "name": "stdout",
     "output_type": "stream",
     "text": [
      "<_sre.SRE_Match object; span=(10, 17), match='pattern'>\n"
     ]
    }
   ],
   "source": [
    "print(re.search('pattern', 'Searching pattern in text'))"
   ]
  },
  {
   "cell_type": "code",
   "execution_count": 6,
   "metadata": {},
   "outputs": [
    {
     "name": "stdout",
     "output_type": "stream",
     "text": [
      "None\n"
     ]
    }
   ],
   "source": [
    "print(re.search('None', 'Searching pattern in text'))"
   ]
  },
  {
   "cell_type": "code",
   "execution_count": 8,
   "metadata": {},
   "outputs": [
    {
     "name": "stdout",
     "output_type": "stream",
     "text": [
      "<_sre.SRE_Match object; span=(10, 17), match='pattern'>\n"
     ]
    }
   ],
   "source": [
    "match = re.search('pattern', 'Searching pattern in text')\n",
    "print(match)"
   ]
  },
  {
   "cell_type": "code",
   "execution_count": 9,
   "metadata": {},
   "outputs": [
    {
     "name": "stdout",
     "output_type": "stream",
     "text": [
      "pattern\n"
     ]
    }
   ],
   "source": [
    "print(match.re.pattern)\n",
    "\n"
   ]
  },
  {
   "cell_type": "code",
   "execution_count": 10,
   "metadata": {},
   "outputs": [
    {
     "name": "stdout",
     "output_type": "stream",
     "text": [
      "Searching pattern in text\n"
     ]
    }
   ],
   "source": [
    "print(match.string)"
   ]
  },
  {
   "cell_type": "code",
   "execution_count": 11,
   "metadata": {},
   "outputs": [
    {
     "name": "stdout",
     "output_type": "stream",
     "text": [
      "10\n"
     ]
    }
   ],
   "source": [
    "print(match.start())"
   ]
  },
  {
   "cell_type": "code",
   "execution_count": 12,
   "metadata": {},
   "outputs": [
    {
     "name": "stdout",
     "output_type": "stream",
     "text": [
      "17\n"
     ]
    }
   ],
   "source": [
    "print(match.end())"
   ]
  },
  {
   "cell_type": "code",
   "execution_count": 14,
   "metadata": {},
   "outputs": [
    {
     "name": "stdout",
     "output_type": "stream",
     "text": [
      "10\n"
     ]
    }
   ],
   "source": [
    "regex = re.compile('pattern')\n",
    "print(regex.search('Searching pattern in text pattern...').start())"
   ]
  },
  {
   "cell_type": "code",
   "execution_count": 17,
   "metadata": {},
   "outputs": [
    {
     "name": "stdout",
     "output_type": "stream",
     "text": [
      "['pattern', 'pattern']\n"
     ]
    }
   ],
   "source": [
    "print(regex.findall('Searching pattern in text pattern...'))"
   ]
  },
  {
   "cell_type": "code",
   "execution_count": 20,
   "metadata": {},
   "outputs": [
    {
     "name": "stdout",
     "output_type": "stream",
     "text": [
      "<_sre.SRE_Match object; span=(0, 5), match='Match'>\n",
      "None\n"
     ]
    }
   ],
   "source": [
    "print(re.match(\"Match\", \"Match function test\"))\n",
    "print(re.match(\"test\",\"Match function test.\"))"
   ]
  },
  {
   "cell_type": "code",
   "execution_count": 21,
   "metadata": {
    "collapsed": true
   },
   "outputs": [],
   "source": [
    "#Patterns"
   ]
  },
  {
   "cell_type": "code",
   "execution_count": 22,
   "metadata": {
    "collapsed": true
   },
   "outputs": [],
   "source": [
    "# * + ? {}"
   ]
  },
  {
   "cell_type": "code",
   "execution_count": 24,
   "metadata": {},
   "outputs": [
    {
     "name": "stdout",
     "output_type": "stream",
     "text": [
      "xy*\n",
      "0-3:xyy\n",
      "3-4:x\n",
      "4-5:x\n",
      "5-6:x\n",
      "6-7:x\n",
      "7-12:xyyyy\n",
      "12-13:x\n",
      "13-14:x\n",
      "14-15:x\n",
      "15-18:xyy\n"
     ]
    }
   ],
   "source": [
    "def all_matches(text,pattern):\n",
    "    print(pattern)\n",
    "    regobj = re.compile(pattern)\n",
    "    for m in regobj.finditer(text):\n",
    "        print(str(m.start()) + '-' + str(m.end()) + ':' + text[m.start() :m.end()])\n",
    "\n",
    "        \n",
    "all_matches('xyyxxxxxyyyyxxxxyy', 'xy*')"
   ]
  },
  {
   "cell_type": "code",
   "execution_count": 25,
   "metadata": {},
   "outputs": [
    {
     "name": "stdout",
     "output_type": "stream",
     "text": [
      "xy+\n",
      "0-3:xyy\n",
      "7-12:xyyyy\n",
      "15-18:xyy\n"
     ]
    }
   ],
   "source": [
    "all_matches('xyyxxxxxyyyyxxxxyy', 'xy+')"
   ]
  },
  {
   "cell_type": "code",
   "execution_count": 26,
   "metadata": {},
   "outputs": [
    {
     "name": "stdout",
     "output_type": "stream",
     "text": [
      "xy?\n",
      "0-2:xy\n",
      "3-4:x\n",
      "4-5:x\n",
      "5-6:x\n",
      "6-7:x\n",
      "7-9:xy\n",
      "12-13:x\n",
      "13-14:x\n",
      "14-15:x\n",
      "15-17:xy\n"
     ]
    }
   ],
   "source": [
    "all_matches('xyyxxxxxyyyyxxxxyy', 'xy?')"
   ]
  },
  {
   "cell_type": "code",
   "execution_count": 27,
   "metadata": {},
   "outputs": [
    {
     "name": "stdout",
     "output_type": "stream",
     "text": [
      "xy{2}\n",
      "0-3:xyy\n",
      "7-10:xyy\n",
      "15-18:xyy\n"
     ]
    }
   ],
   "source": [
    "all_matches('xyyxxxxxyyyyxxxxyy', 'xy{2}')"
   ]
  },
  {
   "cell_type": "code",
   "execution_count": 28,
   "metadata": {},
   "outputs": [
    {
     "name": "stdout",
     "output_type": "stream",
     "text": [
      "xy{3,4}\n",
      "7-12:xyyyy\n"
     ]
    }
   ],
   "source": [
    "all_matches('xyyxxxxxyyyyxxxxyy', 'xy{3,4}')"
   ]
  },
  {
   "cell_type": "code",
   "execution_count": 29,
   "metadata": {},
   "outputs": [
    {
     "name": "stdout",
     "output_type": "stream",
     "text": [
      "xy{2,}\n",
      "0-3:xyy\n",
      "7-12:xyyyy\n",
      "15-18:xyy\n"
     ]
    }
   ],
   "source": [
    "all_matches('xyyxxxxxyyyyxxxxyy', 'xy{2,}')"
   ]
  },
  {
   "cell_type": "code",
   "execution_count": 32,
   "metadata": {},
   "outputs": [
    {
     "name": "stdout",
     "output_type": "stream",
     "text": [
      "xy{}\n"
     ]
    }
   ],
   "source": [
    "all_matches('xyyxxxxxyyyyxxxxyy', 'xy{}')"
   ]
  },
  {
   "cell_type": "code",
   "execution_count": 33,
   "metadata": {},
   "outputs": [
    {
     "name": "stdout",
     "output_type": "stream",
     "text": [
      "xy*?\n",
      "0-1:x\n",
      "3-4:x\n",
      "4-5:x\n",
      "5-6:x\n",
      "6-7:x\n",
      "7-8:x\n",
      "12-13:x\n",
      "13-14:x\n",
      "14-15:x\n",
      "15-16:x\n"
     ]
    }
   ],
   "source": [
    "all_matches('xyyxxxxxyyyyxxxxyy', 'xy*?')"
   ]
  },
  {
   "cell_type": "code",
   "execution_count": 34,
   "metadata": {},
   "outputs": [
    {
     "name": "stdout",
     "output_type": "stream",
     "text": [
      "xy+\n",
      "0-3:xyy\n",
      "7-12:xyyyy\n",
      "15-18:xyy\n"
     ]
    }
   ],
   "source": [
    "all_matches('xyyxxxxxyyyyxxxxyy', 'xy+')"
   ]
  },
  {
   "cell_type": "code",
   "execution_count": 35,
   "metadata": {},
   "outputs": [
    {
     "name": "stdout",
     "output_type": "stream",
     "text": [
      "xy+?\n",
      "0-2:xy\n",
      "7-9:xy\n",
      "15-17:xy\n"
     ]
    }
   ],
   "source": [
    "all_matches('xyyxxxxxyyyyxxxxyy', 'xy+?')"
   ]
  },
  {
   "cell_type": "code",
   "execution_count": 36,
   "metadata": {},
   "outputs": [
    {
     "name": "stdout",
     "output_type": "stream",
     "text": [
      "xy??\n",
      "0-1:x\n",
      "3-4:x\n",
      "4-5:x\n",
      "5-6:x\n",
      "6-7:x\n",
      "7-8:x\n",
      "12-13:x\n",
      "13-14:x\n",
      "14-15:x\n",
      "15-16:x\n"
     ]
    }
   ],
   "source": [
    "all_matches('xyyxxxxxyyyyxxxxyy', 'xy??')"
   ]
  },
  {
   "cell_type": "code",
   "execution_count": 37,
   "metadata": {},
   "outputs": [
    {
     "name": "stdout",
     "output_type": "stream",
     "text": [
      "x[xy]+\n",
      "0-18:xyyxxxxxyyyyxxxxyy\n"
     ]
    }
   ],
   "source": [
    "all_matches('xyyxxxxxyyyyxxxxyy', 'x[xy]+')"
   ]
  },
  {
   "cell_type": "code",
   "execution_count": 39,
   "metadata": {},
   "outputs": [
    {
     "name": "stdout",
     "output_type": "stream",
     "text": [
      "[^. ]+\n",
      "0-2:xx\n",
      "8-14:yyyxxx\n"
     ]
    }
   ],
   "source": [
    "all_matches('xx..  ..yyyxxx.. ', '[^. ]+')"
   ]
  },
  {
   "cell_type": "code",
   "execution_count": 43,
   "metadata": {},
   "outputs": [
    {
     "name": "stdout",
     "output_type": "stream",
     "text": [
      "[A-Z][0-9]\n",
      "0-2:A9\n",
      "3-5:B2\n"
     ]
    }
   ],
   "source": [
    "all_matches('A94B2c4 xyz08','[A-Z][0-9]')"
   ]
  },
  {
   "cell_type": "code",
   "execution_count": 44,
   "metadata": {},
   "outputs": [
    {
     "name": "stdout",
     "output_type": "stream",
     "text": [
      "[a-z][0-9]\n",
      "5-7:c4\n",
      "10-12:z0\n"
     ]
    }
   ],
   "source": [
    "all_matches('A94B2c4 xyz08','[a-z][0-9]')"
   ]
  },
  {
   "cell_type": "code",
   "execution_count": 45,
   "metadata": {},
   "outputs": [
    {
     "name": "stdout",
     "output_type": "stream",
     "text": [
      "S.+k\n",
      "0-4:Silk\n"
     ]
    }
   ],
   "source": [
    "all_matches('Silk road', 'S.+k')"
   ]
  },
  {
   "cell_type": "code",
   "execution_count": 46,
   "metadata": {},
   "outputs": [
    {
     "name": "stdout",
     "output_type": "stream",
     "text": [
      "\\d+\n",
      "8-9:1\n"
     ]
    }
   ],
   "source": [
    "all_matches(\"This is 1-st example\", r'\\d+')"
   ]
  },
  {
   "cell_type": "code",
   "execution_count": 47,
   "metadata": {},
   "outputs": [
    {
     "name": "stdout",
     "output_type": "stream",
     "text": [
      "\\D+\n",
      "0-8:This is \n",
      "9-20:-st example\n"
     ]
    }
   ],
   "source": [
    "all_matches(\"This is 1-st example\", r'\\D+')"
   ]
  },
  {
   "cell_type": "code",
   "execution_count": 48,
   "metadata": {},
   "outputs": [
    {
     "name": "stdout",
     "output_type": "stream",
     "text": [
      "\\s+\n",
      "4-5: \n",
      "7-8: \n",
      "12-13: \n"
     ]
    }
   ],
   "source": [
    "all_matches(\"This is 1-st example\", r'\\s+')"
   ]
  },
  {
   "cell_type": "code",
   "execution_count": 49,
   "metadata": {},
   "outputs": [
    {
     "name": "stdout",
     "output_type": "stream",
     "text": [
      "\\w+\n",
      "0-4:This\n",
      "5-7:is\n",
      "8-9:1\n",
      "10-12:st\n",
      "13-20:example\n"
     ]
    }
   ],
   "source": [
    "all_matches(\"This is 1-st example\", r'\\w+')"
   ]
  },
  {
   "cell_type": "code",
   "execution_count": 50,
   "metadata": {},
   "outputs": [
    {
     "name": "stdout",
     "output_type": "stream",
     "text": [
      "\\W+\n",
      "4-5: \n",
      "7-8: \n",
      "9-10:-\n",
      "12-13: \n"
     ]
    }
   ],
   "source": [
    "all_matches(\"This is 1-st example\", r'\\W+')"
   ]
  },
  {
   "cell_type": "code",
   "execution_count": 51,
   "metadata": {},
   "outputs": [
    {
     "name": "stdout",
     "output_type": "stream",
     "text": [
      "^\\w+\n",
      "0-8:Relative\n"
     ]
    }
   ],
   "source": [
    "\n",
    "all_matches('Relative positoning in regular', r'^\\w+')"
   ]
  },
  {
   "cell_type": "code",
   "execution_count": 58,
   "metadata": {},
   "outputs": [
    {
     "name": "stdout",
     "output_type": "stream",
     "text": [
      "\\w+$\n",
      "31-41:expression\n"
     ]
    }
   ],
   "source": [
    "all_matches('Relative positoning in regular expression', r'\\w+$')"
   ]
  },
  {
   "cell_type": "code",
   "execution_count": 59,
   "metadata": {},
   "outputs": [
    {
     "name": "stdout",
     "output_type": "stream",
     "text": [
      "\\w+\\Z\n",
      "31-41:expression\n"
     ]
    }
   ],
   "source": [
    "\n",
    "all_matches('Relative positoning in regular expression', r'\\w+\\Z')"
   ]
  },
  {
   "cell_type": "code",
   "execution_count": 60,
   "metadata": {},
   "outputs": [
    {
     "name": "stdout",
     "output_type": "stream",
     "text": [
      "\\Bg\\B\n",
      "25-26:g\n"
     ]
    }
   ],
   "source": [
    "\n",
    "all_matches('Relative positoning in regular expression', r'\\Bg\\B')"
   ]
  },
  {
   "cell_type": "code",
   "execution_count": 61,
   "metadata": {
    "collapsed": true
   },
   "outputs": [],
   "source": [
    "#Devision and Grouping Results"
   ]
  },
  {
   "cell_type": "code",
   "execution_count": 62,
   "metadata": {
    "collapsed": true
   },
   "outputs": [],
   "source": [
    "import re"
   ]
  },
  {
   "cell_type": "code",
   "execution_count": 65,
   "metadata": {},
   "outputs": [
    {
     "name": "stdout",
     "output_type": "stream",
     "text": [
      "('xxyxxxyxyx', 'y')\n"
     ]
    }
   ],
   "source": [
    "regex = re.compile('x([xy]+)(y)')\n",
    "match = regex.search('xkyxxxyxxxyxyxy')\n",
    "print(match.groups())"
   ]
  },
  {
   "cell_type": "code",
   "execution_count": 66,
   "metadata": {},
   "outputs": [
    {
     "name": "stdout",
     "output_type": "stream",
     "text": [
      "xxyxxxyxyx\n"
     ]
    }
   ],
   "source": [
    "print(match.group(1))"
   ]
  },
  {
   "cell_type": "code",
   "execution_count": 67,
   "metadata": {},
   "outputs": [
    {
     "name": "stdout",
     "output_type": "stream",
     "text": [
      "xxxyxxxyxyxy\n"
     ]
    }
   ],
   "source": [
    "print(match.group(0))"
   ]
  },
  {
   "cell_type": "code",
   "execution_count": 68,
   "metadata": {},
   "outputs": [
    {
     "name": "stdout",
     "output_type": "stream",
     "text": [
      "y\n"
     ]
    }
   ],
   "source": [
    "print(match.group(2))"
   ]
  },
  {
   "cell_type": "code",
   "execution_count": 69,
   "metadata": {
    "collapsed": true
   },
   "outputs": [],
   "source": [
    "#Setting Search Parameters"
   ]
  },
  {
   "cell_type": "code",
   "execution_count": null,
   "metadata": {
    "collapsed": true
   },
   "outputs": [],
   "source": []
  }
 ],
 "metadata": {
  "kernelspec": {
   "display_name": "Python 3",
   "language": "python",
   "name": "python3"
  },
  "language_info": {
   "codemirror_mode": {
    "name": "ipython",
    "version": 3
   },
   "file_extension": ".py",
   "mimetype": "text/x-python",
   "name": "python",
   "nbconvert_exporter": "python",
   "pygments_lexer": "ipython3",
   "version": "3.6.2"
  }
 },
 "nbformat": 4,
 "nbformat_minor": 2
}
