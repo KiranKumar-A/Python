{
 "cells": [
  {
   "cell_type": "code",
   "execution_count": 1,
   "metadata": {
    "collapsed": true
   },
   "outputs": [],
   "source": [
    "#OOP"
   ]
  },
  {
   "cell_type": "code",
   "execution_count": 2,
   "metadata": {
    "collapsed": true
   },
   "outputs": [],
   "source": [
    "#hiding info\n",
    "#encapsulation\n",
    "#inheritance\n",
    "#polymorphism"
   ]
  },
  {
   "cell_type": "code",
   "execution_count": 3,
   "metadata": {
    "collapsed": true
   },
   "outputs": [],
   "source": [
    "#Class Definition and Instantiation\n",
    "#Class:a collection of attributes that are defined for any object data members, methods"
   ]
  },
  {
   "cell_type": "code",
   "execution_count": 4,
   "metadata": {},
   "outputs": [
    {
     "name": "stdout",
     "output_type": "stream",
     "text": [
      "1 1\n"
     ]
    }
   ],
   "source": [
    "class Complex:\n",
    "    'this class simulates complex numbers'\n",
    "    def __init__(self,real,imag):\n",
    "        \n",
    "        self.real = real\n",
    "        self.imag = imag\n",
    "        \n",
    "c = Complex(1,1)\n",
    "\n",
    "print(c.real,c.imag)"
   ]
  },
  {
   "cell_type": "code",
   "execution_count": 5,
   "metadata": {},
   "outputs": [
    {
     "ename": "TypeError",
     "evalue": "__init__() missing 1 required positional argument: 'imag'",
     "output_type": "error",
     "traceback": [
      "\u001b[1;31m---------------------------------------------------------------------------\u001b[0m",
      "\u001b[1;31mTypeError\u001b[0m                                 Traceback (most recent call last)",
      "\u001b[1;32m<ipython-input-5-52d995dd60e9>\u001b[0m in \u001b[0;36m<module>\u001b[1;34m()\u001b[0m\n\u001b[1;32m----> 1\u001b[1;33m \u001b[0mc\u001b[0m \u001b[1;33m=\u001b[0m \u001b[0mComplex\u001b[0m\u001b[1;33m(\u001b[0m\u001b[1;36m2\u001b[0m\u001b[1;33m)\u001b[0m\u001b[1;33m\u001b[0m\u001b[0m\n\u001b[0m",
      "\u001b[1;31mTypeError\u001b[0m: __init__() missing 1 required positional argument: 'imag'"
     ]
    }
   ],
   "source": [
    "c = Complex(2)"
   ]
  },
  {
   "cell_type": "code",
   "execution_count": 7,
   "metadata": {},
   "outputs": [
    {
     "name": "stdout",
     "output_type": "stream",
     "text": [
      "2 0\n"
     ]
    }
   ],
   "source": [
    "class Complex:\n",
    "    'this class simulates complex numbers'\n",
    "    def __init__(self,real=0,imag=0):\n",
    "        \n",
    "        self.real = real\n",
    "        self.imag = imag\n",
    "try:\n",
    "    c = Complex(2)\n",
    "    print(c.real, c.imag)\n",
    "except Exception as e:\n",
    "    print(e)\n",
    "        "
   ]
  },
  {
   "cell_type": "code",
   "execution_count": 9,
   "metadata": {},
   "outputs": [
    {
     "ename": "Exception",
     "evalue": "Args are not in numbers!",
     "output_type": "error",
     "traceback": [
      "\u001b[1;31m---------------------------------------------------------------------------\u001b[0m",
      "\u001b[1;31mException\u001b[0m                                 Traceback (most recent call last)",
      "\u001b[1;32m<ipython-input-9-09cfaaa6ebc1>\u001b[0m in \u001b[0;36m<module>\u001b[1;34m()\u001b[0m\n\u001b[0;32m      8\u001b[0m         \u001b[0mself\u001b[0m\u001b[1;33m.\u001b[0m\u001b[0mimag\u001b[0m \u001b[1;33m=\u001b[0m \u001b[0mimag\u001b[0m\u001b[1;33m\u001b[0m\u001b[0m\n\u001b[0;32m      9\u001b[0m \u001b[1;33m\u001b[0m\u001b[0m\n\u001b[1;32m---> 10\u001b[1;33m \u001b[0mc\u001b[0m \u001b[1;33m=\u001b[0m \u001b[0mComplex\u001b[0m\u001b[1;33m(\u001b[0m\u001b[1;33m(\u001b[0m\u001b[1;36m1\u001b[0m\u001b[1;33m,\u001b[0m\u001b[1;36m2\u001b[0m\u001b[1;33m,\u001b[0m\u001b[1;36m3\u001b[0m\u001b[1;33m)\u001b[0m\u001b[1;33m,\u001b[0m\u001b[1;33m[\u001b[0m\u001b[1;36m1\u001b[0m\u001b[1;33m,\u001b[0m\u001b[1;36m2\u001b[0m\u001b[1;33m,\u001b[0m\u001b[1;36m3\u001b[0m\u001b[1;33m]\u001b[0m\u001b[1;33m)\u001b[0m\u001b[1;33m\u001b[0m\u001b[0m\n\u001b[0m\u001b[0;32m     11\u001b[0m \u001b[0mprint\u001b[0m\u001b[1;33m(\u001b[0m\u001b[0mc\u001b[0m\u001b[1;33m.\u001b[0m\u001b[0mreal\u001b[0m\u001b[1;33m,\u001b[0m\u001b[0mc\u001b[0m\u001b[1;33m.\u001b[0m\u001b[0mimag\u001b[0m\u001b[1;33m)\u001b[0m\u001b[1;33m\u001b[0m\u001b[0m\n",
      "\u001b[1;32m<ipython-input-9-09cfaaa6ebc1>\u001b[0m in \u001b[0;36m__init__\u001b[1;34m(self, real, imag)\u001b[0m\n\u001b[0;32m      3\u001b[0m     \u001b[1;32mdef\u001b[0m \u001b[0m__init__\u001b[0m\u001b[1;33m(\u001b[0m\u001b[0mself\u001b[0m\u001b[1;33m,\u001b[0m\u001b[0mreal\u001b[0m\u001b[1;33m=\u001b[0m\u001b[1;36m0\u001b[0m\u001b[1;33m,\u001b[0m\u001b[0mimag\u001b[0m\u001b[1;33m=\u001b[0m\u001b[1;36m0\u001b[0m\u001b[1;33m)\u001b[0m\u001b[1;33m:\u001b[0m\u001b[1;33m\u001b[0m\u001b[0m\n\u001b[0;32m      4\u001b[0m         \u001b[1;32mif\u001b[0m\u001b[1;33m(\u001b[0m\u001b[0mtype\u001b[0m\u001b[1;33m(\u001b[0m\u001b[0mreal\u001b[0m\u001b[1;33m)\u001b[0m \u001b[1;32mnot\u001b[0m \u001b[1;32min\u001b[0m \u001b[1;33m(\u001b[0m\u001b[0mint\u001b[0m\u001b[1;33m,\u001b[0m \u001b[0mfloat\u001b[0m\u001b[1;33m)\u001b[0m\u001b[1;33m)\u001b[0m \u001b[1;32mor\u001b[0m \u001b[0mtype\u001b[0m\u001b[1;33m(\u001b[0m\u001b[0mimag\u001b[0m\u001b[1;33m)\u001b[0m \u001b[1;32mnot\u001b[0m \u001b[1;32min\u001b[0m \u001b[1;33m(\u001b[0m\u001b[0mint\u001b[0m\u001b[1;33m,\u001b[0m\u001b[0mfloat\u001b[0m\u001b[1;33m)\u001b[0m\u001b[1;33m:\u001b[0m\u001b[1;33m\u001b[0m\u001b[0m\n\u001b[1;32m----> 5\u001b[1;33m             \u001b[1;32mraise\u001b[0m \u001b[0mException\u001b[0m\u001b[1;33m(\u001b[0m\u001b[1;34m'Args are not in numbers!'\u001b[0m\u001b[1;33m)\u001b[0m\u001b[1;33m\u001b[0m\u001b[0m\n\u001b[0m\u001b[0;32m      6\u001b[0m \u001b[1;33m\u001b[0m\u001b[0m\n\u001b[0;32m      7\u001b[0m         \u001b[0mself\u001b[0m\u001b[1;33m.\u001b[0m\u001b[0mreal\u001b[0m \u001b[1;33m=\u001b[0m \u001b[0mreal\u001b[0m\u001b[1;33m\u001b[0m\u001b[0m\n",
      "\u001b[1;31mException\u001b[0m: Args are not in numbers!"
     ]
    }
   ],
   "source": [
    "class Complex:\n",
    "    'this class simulates complex numbers'\n",
    "    def __init__(self,real=0,imag=0):\n",
    "        if(type(real) not in (int, float)) or type(imag) not in (int,float):\n",
    "            raise Exception('Args are not in numbers!')\n",
    "        \n",
    "        self.real = real\n",
    "        self.imag = imag\n",
    "\n",
    "\n",
    "c = Complex((1,2,3),[1,2,3])\n",
    "print(c.real,c.imag)\n",
    "\n",
    "except"
   ]
  },
  {
   "cell_type": "code",
   "execution_count": 10,
   "metadata": {},
   "outputs": [
    {
     "name": "stdout",
     "output_type": "stream",
     "text": [
      "Args are not in numbers!\n"
     ]
    }
   ],
   "source": [
    "class Complex:\n",
    "    'this class simulates complex numbers'\n",
    "    def __init__(self,real=0,imag=0):\n",
    "        if(type(real) not in (int, float)) or type(imag) not in (int,float):\n",
    "            raise Exception('Args are not in numbers!')\n",
    "        \n",
    "        self.real = real\n",
    "        self.imag = imag\n",
    "\n",
    "try:\n",
    "    c = Complex((1,2,3),[1,2,3])\n",
    "    print(c.real,c.imag)\n",
    "\n",
    "except Exception as e:\n",
    "    print(e)"
   ]
  },
  {
   "cell_type": "code",
   "execution_count": 11,
   "metadata": {},
   "outputs": [
    {
     "name": "stdout",
     "output_type": "stream",
     "text": [
      "2 4\n"
     ]
    }
   ],
   "source": [
    "class Complex:\n",
    "    'this class simulates complex numbers'\n",
    "    def __init__(self,real=0,imag=0):\n",
    "        if(type(real) not in (int, float)) or type(imag) not in (int,float):\n",
    "            raise Exception('Args are not in numbers!')\n",
    "        \n",
    "        self.real = real\n",
    "        self.imag = imag\n",
    "\n",
    "try:\n",
    "    c = Complex(2,4)\n",
    "    print(c.real,c.imag)\n",
    "\n",
    "except Exception as e:\n",
    "    print(e)"
   ]
  },
  {
   "cell_type": "code",
   "execution_count": 13,
   "metadata": {},
   "outputs": [
    {
     "name": "stdout",
     "output_type": "stream",
     "text": [
      "2.5 5.2\n"
     ]
    }
   ],
   "source": [
    "class Complex:\n",
    "    'this class simulates complex numbers'\n",
    "    def __init__(self,real=0,imag=0):\n",
    "        if(type(real) not in (int, float)) or type(imag) not in (int,float):\n",
    "            raise Exception('Args are not in numbers!')\n",
    "        \n",
    "        self.real = real\n",
    "        self.imag = imag\n",
    "    def GetReal(self):\n",
    "        return self.real\n",
    "    def GetImag(self):\n",
    "        return self.imag\n",
    "\n",
    "c= Complex(2.5,5.2)\n",
    "print(c.GetReal(),c.GetImag())"
   ]
  },
  {
   "cell_type": "code",
   "execution_count": 18,
   "metadata": {},
   "outputs": [
    {
     "name": "stdout",
     "output_type": "stream",
     "text": [
      "2 1\n"
     ]
    }
   ],
   "source": [
    "class Complex:\n",
    "    'this class simulates complex numbers'\n",
    "    def __init__(self,real=0,imag=0):\n",
    "        if(type(real) not in (int, float)) or type(imag) not in (int,float):\n",
    "            raise Exception('Args are not in numbers!')\n",
    "        \n",
    "        self.real = real\n",
    "        self.imag = imag\n",
    "    def GetReal(self):\n",
    "        return self.real\n",
    "    def GetImag(self):\n",
    "        return self.imag\n",
    "    def SetReal(self,val):\n",
    "        self.real = val\n",
    "    def SetImag(self,val):\n",
    "        self.imag = val\n",
    "\n",
    "c= Complex()\n",
    "c.SetImag(1)\n",
    "c.SetReal(2)\n",
    "print(c.GetReal(), c.GetImag())"
   ]
  },
  {
   "cell_type": "code",
   "execution_count": null,
   "metadata": {
    "collapsed": true
   },
   "outputs": [],
   "source": []
  }
 ],
 "metadata": {
  "kernelspec": {
   "display_name": "Python 3",
   "language": "python",
   "name": "python3"
  },
  "language_info": {
   "codemirror_mode": {
    "name": "ipython",
    "version": 3
   },
   "file_extension": ".py",
   "mimetype": "text/x-python",
   "name": "python",
   "nbconvert_exporter": "python",
   "pygments_lexer": "ipython3",
   "version": "3.6.2"
  }
 },
 "nbformat": 4,
 "nbformat_minor": 2
}
