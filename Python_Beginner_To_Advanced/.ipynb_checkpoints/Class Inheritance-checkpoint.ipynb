{
 "cells": [
  {
   "cell_type": "code",
   "execution_count": 3,
   "metadata": {},
   "outputs": [
    {
     "name": "stdout",
     "output_type": "stream",
     "text": [
      "1000 MAN 4 15000\n"
     ]
    }
   ],
   "source": [
    "class Vehicle:\n",
    "    def __init__(self, VIN, weight, manufacturer):\n",
    "        self.vin_number = VIN\n",
    "        self.weight = weight\n",
    "        self.manufacturer = manufacturer\n",
    "    def GetWeight(self):\n",
    "        return self.weight\n",
    "    def GetManufacturer(self):\n",
    "        return self.manufacturer\n",
    "    def VehicleType(self):\n",
    "        pass\n",
    "class Car(Vehicle):\n",
    "    def __init__(self, VIN, weight, manufacturer, seats):\n",
    "        self.vin_number = VIN\n",
    "        self.weight = weight\n",
    "        self.seats = seats\n",
    "        self.manufacturer = manufacturer\n",
    "    def NumberOfSeats(self):\n",
    "        return self.seats\n",
    "    def VehicleType(self):\n",
    "        return 'CAR'\n",
    "\n",
    "class Truck(Vehicle):\n",
    "    def __init__(self, VIN, weight, manufacturer, capacity):\n",
    "        self.vin_number = VIN\n",
    "        self.weight = weight\n",
    "        self.capacity = capacity\n",
    "        self.manufacturer = manufacturer\n",
    "    def TransportCapacity(self):\n",
    "        return self.capacity\n",
    "    def VehicleType(self):\n",
    "        return 'TRUCK'\n",
    "    \n",
    "a = Car('ABC1', 1000, 'BMW', 4)\n",
    "b = Truck('BCD2', 1000, 'MAN', 10000)\n",
    "c = Car('DEF3', 1200, 'FORD', 4)\n",
    "d = Truck('EFG4', 11000, 'MERCEDES', 15000)\n",
    "\n",
    "print(a.GetWeight(), b.GetManufacturer(), c.NumberOfSeats(), d.TransportCapacity())"
   ]
  },
  {
   "cell_type": "code",
   "execution_count": 4,
   "metadata": {},
   "outputs": [
    {
     "name": "stdout",
     "output_type": "stream",
     "text": [
      "BMW CAR\n",
      "MAN TRUCK\n",
      "FORD CAR\n",
      "MERCEDES TRUCK\n"
     ]
    }
   ],
   "source": [
    "class Vehicle:\n",
    "    def __init__(self, VIN, weight, manufacturer):\n",
    "        self.vin_number = VIN\n",
    "        self.weight = weight\n",
    "        self.manufacturer = manufacturer\n",
    "    def GetWeight(self):\n",
    "        return self.weight\n",
    "    def GetManufacturer(self):\n",
    "        return self.manufacturer\n",
    "    def VehicleType(self):\n",
    "        pass\n",
    "class Car(Vehicle):\n",
    "    def __init__(self, VIN, weight, manufacturer, seats):\n",
    "        self.vin_number = VIN\n",
    "        self.weight = weight\n",
    "        self.seats = seats\n",
    "        self.manufacturer = manufacturer\n",
    "    def NumberOfSeats(self):\n",
    "        return self.seats\n",
    "    def VehicleType(self):\n",
    "        return 'CAR'\n",
    "\n",
    "class Truck(Vehicle):\n",
    "    def __init__(self, VIN, weight, manufacturer, capacity):\n",
    "        self.vin_number = VIN\n",
    "        self.weight = weight\n",
    "        self.capacity = capacity\n",
    "        self.manufacturer = manufacturer\n",
    "    def TransportCapacity(self):\n",
    "        return self.capacity\n",
    "    def VehicleType(self):\n",
    "        return 'TRUCK'\n",
    "    \n",
    "a = Car('ABC1', 1000, 'BMW', 4)\n",
    "b = Truck('BCD2', 1000, 'MAN', 10000)\n",
    "c = Car('DEF3', 1200, 'FORD', 4)\n",
    "d = Truck('EFG4', 11000, 'MERCEDES', 15000)\n",
    "\n",
    "for v in [a,b,c,d]:\n",
    "    print(v.GetManufacturer(), v.VehicleType())"
   ]
  },
  {
   "cell_type": "code",
   "execution_count": 5,
   "metadata": {
    "collapsed": true
   },
   "outputs": [],
   "source": [
    "#Class Inheritance 2"
   ]
  },
  {
   "cell_type": "code",
   "execution_count": 8,
   "metadata": {},
   "outputs": [
    {
     "ename": "SyntaxError",
     "evalue": "invalid syntax (<ipython-input-8-4b382a642390>, line 27)",
     "output_type": "error",
     "traceback": [
      "\u001b[1;36m  File \u001b[1;32m\"<ipython-input-8-4b382a642390>\"\u001b[1;36m, line \u001b[1;32m27\u001b[0m\n\u001b[1;33m    try:\u001b[0m\n\u001b[1;37m      ^\u001b[0m\n\u001b[1;31mSyntaxError\u001b[0m\u001b[1;31m:\u001b[0m invalid syntax\n"
     ]
    }
   ],
   "source": [
    "class Complex(object):\n",
    "    'this class simulates complex numbers'\n",
    "    \n",
    "    def __init__(self,real=0,imag=0): \n",
    "        self.__real = real\n",
    "        self.__imag = imag\n",
    "    def GetReal(self):\n",
    "        return self.__real\n",
    "    def GetImag(self):\n",
    "        return self.__imag\n",
    "    def SetReal(self,real):\n",
    "        if type(real) not in (int,float):\n",
    "            raise Exception('real part must be a number')\n",
    "        self.__real = real\n",
    "    def SetImag(self,imag):\n",
    "        if type(imag) not in (int,float):\n",
    "            raise Exception('imag part must be a number')\n",
    "        self.__imag = imag\n",
    "    real = property(GetReal, SetReal)\n",
    "    imag = property(GetImag, SetImag)\n",
    "        \n",
    "        \n",
    "        \n",
    "c = Complex()\n",
    "print(c.real, c.imag\n",
    "\n",
    "try:\n",
    "    c.real = (1,2,3)\n",
    "\n",
    "except Exception as e:\n",
    "    print(e)"
   ]
  },
  {
   "cell_type": "code",
   "execution_count": 9,
   "metadata": {
    "collapsed": true
   },
   "outputs": [],
   "source": [
    "#Extra Notes\n"
   ]
  },
  {
   "cell_type": "code",
   "execution_count": 11,
   "metadata": {},
   "outputs": [
    {
     "name": "stdout",
     "output_type": "stream",
     "text": [
      "2 2 2\n"
     ]
    }
   ],
   "source": [
    "class Student(object):\n",
    "    \"\"\"Student\"\"\"\n",
    "    number_of_students = 0\n",
    "    \n",
    "    def __init__(self, name, index):\n",
    "        self.name = name\n",
    "        self.index = index\n",
    "        Student.number_of_students +=1\n",
    "s1 = Student('Python Pythonski', 12345)\n",
    "s2 = Student('Guido van Rossum', 34567)\n",
    "\n",
    "print(Student.number_of_students, s1.number_of_students, s2.number_of_students)\n"
   ]
  },
  {
   "cell_type": "code",
   "execution_count": 17,
   "metadata": {},
   "outputs": [
    {
     "name": "stdout",
     "output_type": "stream",
     "text": [
      "0\n"
     ]
    }
   ],
   "source": [
    "class Student(object):\n",
    "    \"\"\"Student\"\"\"\n",
    "    number_of_students = 0\n",
    "    \n",
    "    def __init__(self, name, index):\n",
    "        self.name = name\n",
    "        self.index = index\n",
    "        Student.number_of_students +=1\n",
    "        \n",
    "    def __del__(self):\n",
    "        Student.number_of_students -=1\n",
    "        \n",
    "s1 = Student('Python Pythonski', 12345)\n",
    "s2 = Student('Guido van Rossum', 34567)\\\n",
    "\n",
    "del s2\n",
    "\n",
    "print(Student.number_of_students) "
   ]
  },
  {
   "cell_type": "code",
   "execution_count": 22,
   "metadata": {},
   "outputs": [
    {
     "name": "stdout",
     "output_type": "stream",
     "text": [
      "0\n"
     ]
    }
   ],
   "source": [
    "class Student(object):\n",
    "    \"\"\"Student\"\"\"\n",
    "    number_of_students = 0\n",
    "    \n",
    "    def __init__(self, name, index):\n",
    "        self.name = name\n",
    "        self.index = index\n",
    "        Student.number_of_students +=1\n",
    "        \n",
    "    def __del__(self):\n",
    "        Student.number_of_students -=1\n",
    "        \n",
    "s1 = Student('Python Pythonski', 12345)\n",
    "s2 = Student('Guido van Rossum', 34567)\n",
    "\n",
    "del s1\n",
    "\n",
    "print(Student.number_of_students) "
   ]
  },
  {
   "cell_type": "code",
   "execution_count": 24,
   "metadata": {},
   "outputs": [
    {
     "name": "stdout",
     "output_type": "stream",
     "text": [
      "\n",
      "The following command must be run outside of the IPython shell:\n",
      "\n",
      "    $ pip install pytz\n",
      "\n",
      "The Python package manager (pip) can only be used from outside of IPython.\n",
      "Please reissue the `pip` command in a separate terminal or command prompt.\n",
      "\n",
      "See the Python documentation for more informations on how to install packages:\n",
      "\n",
      "    https://docs.python.org/3/installing/\n"
     ]
    }
   ],
   "source": [
    "pip install pytz"
   ]
  },
  {
   "cell_type": "code",
   "execution_count": null,
   "metadata": {
    "collapsed": true
   },
   "outputs": [],
   "source": []
  }
 ],
 "metadata": {
  "kernelspec": {
   "display_name": "Python 3",
   "language": "python",
   "name": "python3"
  },
  "language_info": {
   "codemirror_mode": {
    "name": "ipython",
    "version": 3
   },
   "file_extension": ".py",
   "mimetype": "text/x-python",
   "name": "python",
   "nbconvert_exporter": "python",
   "pygments_lexer": "ipython3",
   "version": "3.6.2"
  }
 },
 "nbformat": 4,
 "nbformat_minor": 2
}
