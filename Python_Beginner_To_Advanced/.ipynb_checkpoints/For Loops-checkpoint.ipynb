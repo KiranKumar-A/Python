{
 "cells": [
  {
   "cell_type": "code",
   "execution_count": 1,
   "metadata": {},
   "outputs": [
    {
     "name": "stdout",
     "output_type": "stream",
     "text": [
      "7\n"
     ]
    }
   ],
   "source": [
    "a = 3\n",
    "a = 7 if 3**3 > 7 else 14\n",
    "print(a)"
   ]
  },
  {
   "cell_type": "code",
   "execution_count": 4,
   "metadata": {},
   "outputs": [
    {
     "data": {
      "text/plain": [
       "range(2, 29, 2)"
      ]
     },
     "execution_count": 4,
     "metadata": {},
     "output_type": "execute_result"
    }
   ],
   "source": [
    "#range(start,stop,step)\n",
    "range(2,29,2)"
   ]
  },
  {
   "cell_type": "code",
   "execution_count": 5,
   "metadata": {},
   "outputs": [
    {
     "name": "stdout",
     "output_type": "stream",
     "text": [
      "1\n",
      "2\n",
      "3\n",
      "4\n",
      "5\n",
      "6\n",
      "7\n",
      "8\n",
      "9\n"
     ]
    }
   ],
   "source": [
    "for i in range(1,10):\n",
    "    print(i)"
   ]
  },
  {
   "cell_type": "code",
   "execution_count": 6,
   "metadata": {},
   "outputs": [
    {
     "name": "stdout",
     "output_type": "stream",
     "text": [
      "1\n",
      "3\n",
      "5\n",
      "7\n",
      "9\n"
     ]
    }
   ],
   "source": [
    "for i in range(1,10,2):\n",
    "    print(i)"
   ]
  },
  {
   "cell_type": "code",
   "execution_count": 8,
   "metadata": {},
   "outputs": [
    {
     "name": "stdout",
     "output_type": "stream",
     "text": [
      "0\n",
      "3\n",
      "6\n",
      "9\n",
      "12\n"
     ]
    }
   ],
   "source": [
    "for i in range(0,13,3):\n",
    "    print(i)"
   ]
  },
  {
   "cell_type": "code",
   "execution_count": 9,
   "metadata": {},
   "outputs": [
    {
     "name": "stdout",
     "output_type": "stream",
     "text": [
      "S\n",
      "t\n",
      "r\n",
      "i\n",
      "n\n",
      "g\n",
      " \n",
      "t\n",
      "r\n",
      "a\n",
      "v\n",
      "e\n",
      "r\n",
      "s\n",
      "a\n",
      "l\n",
      "!\n"
     ]
    }
   ],
   "source": [
    "string = \"String traversal!\"\n",
    "for i in range(len(string)):\n",
    "    print(string[i])"
   ]
  },
  {
   "cell_type": "code",
   "execution_count": 10,
   "metadata": {},
   "outputs": [
    {
     "name": "stdout",
     "output_type": "stream",
     "text": [
      "S\n",
      "t\n",
      "r\n",
      "i\n",
      "n\n",
      "g\n",
      " \n",
      "t\n",
      "r\n",
      "a\n",
      "v\n",
      "e\n",
      "r\n",
      "s\n",
      "a\n",
      "l\n",
      "!\n"
     ]
    }
   ],
   "source": [
    "string = \"String traversal!\"\n",
    "for char in string:\n",
    "    print(char)"
   ]
  },
  {
   "cell_type": "code",
   "execution_count": 11,
   "metadata": {},
   "outputs": [
    {
     "name": "stdout",
     "output_type": "stream",
     "text": [
      "0\n",
      "1\n",
      "0\n",
      "1\n",
      "0\n",
      "1\n"
     ]
    }
   ],
   "source": [
    "for i in range(3):\n",
    "    for j in range(2):\n",
    "        print(j)"
   ]
  },
  {
   "cell_type": "code",
   "execution_count": 12,
   "metadata": {},
   "outputs": [
    {
     "name": "stdout",
     "output_type": "stream",
     "text": [
      "1  |\n",
      "2  |\n",
      "3  |\n",
      "4  |\n",
      "5  |\n",
      "6  |\n",
      "7  |\n",
      "8  |\n",
      "9  |\n",
      "10 |\n"
     ]
    }
   ],
   "source": [
    "#10 x 10 multiplication table\n",
    "\n",
    "for i in range(1,11):\n",
    "    print('{:<3}|'.format(i))"
   ]
  },
  {
   "cell_type": "code",
   "execution_count": 22,
   "metadata": {},
   "outputs": [
    {
     "name": "stdout",
     "output_type": "stream",
     "text": [
      "1  | 2  | 3  | 4  | 5  | 6  | 7  | 8  | 9  | 10 | "
     ]
    }
   ],
   "source": [
    "#10 x 10 multiplication table\n",
    "\n",
    "for i in range(1,11):\n",
    "    print('{:<3}|'.format(i), end = \" \")"
   ]
  },
  {
   "cell_type": "code",
   "execution_count": 17,
   "metadata": {},
   "outputs": [
    {
     "name": "stdout",
     "output_type": "stream",
     "text": [
      "1  |   1     2     3     4     5     6     7     8     9    10  2  |   2     4     6     8    10    12    14    16    18    20  3  |   3     6     9    12    15    18    21    24    27    30  4  |   4     8    12    16    20    24    28    32    36    40  5  |   5    10    15    20    25    30    35    40    45    50  6  |   6    12    18    24    30    36    42    48    54    60  7  |   7    14    21    28    35    42    49    56    63    70  8  |   8    16    24    32    40    48    56    64    72    80  9  |   9    18    27    36    45    54    63    72    81    90  10 |  10    20    30    40    50    60    70    80    90   100  "
     ]
    }
   ],
   "source": [
    "#10 x 10 multiplication table\n",
    "\n",
    "for i in range(1,11):\n",
    "    print('{:<3}|'.format(i), end = \"\")\n",
    "    \n",
    "    for j in range(1,11):\n",
    "        print('{:>4}'.format(i*j),end=\"  \")"
   ]
  },
  {
   "cell_type": "code",
   "execution_count": 21,
   "metadata": {},
   "outputs": [
    {
     "name": "stdout",
     "output_type": "stream",
     "text": [
      "1  |   1     2     3     4     5     6     7     8     9    10  \n",
      "############################################################## \n",
      "2  |   2     4     6     8    10    12    14    16    18    20  \n",
      "3  |   3     6     9    12    15    18    21    24    27    30  \n",
      "4  |   4     8    12    16    20    24    28    32    36    40  \n",
      "5  |   5    10    15    20    25    30    35    40    45    50  \n",
      "6  |   6    12    18    24    30    36    42    48    54    60  \n",
      "7  |   7    14    21    28    35    42    49    56    63    70  \n",
      "8  |   8    16    24    32    40    48    56    64    72    80  \n",
      "9  |   9    18    27    36    45    54    63    72    81    90  \n",
      "10 |  10    20    30    40    50    60    70    80    90   100  \n"
     ]
    }
   ],
   "source": [
    "#10 x 10 multiplication table\n",
    "\n",
    "for i in range(1,11):\n",
    "    print('{:<3}|'.format(i), end = \"\")\n",
    "    \n",
    "    for j in range(1,11):\n",
    "        print('{:>4}'.format(i*j),end=\"  \")\n",
    "        \n",
    "    if i == 1:\n",
    "        print('\\n{:#^62}'.format(\"\"),end = \" \")\n",
    "        \n",
    "    print(\"\")"
   ]
  },
  {
   "cell_type": "code",
   "execution_count": 23,
   "metadata": {},
   "outputs": [
    {
     "name": "stdout",
     "output_type": "stream",
     "text": [
      "1  |   1     2     3     4     5     6     7     8     9    10    11    12    13    14    15    16    17    18    19    20  \n",
      "############################################################################################################################ \n",
      "2  |   2     4     6     8    10    12    14    16    18    20    22    24    26    28    30    32    34    36    38    40  \n",
      "3  |   3     6     9    12    15    18    21    24    27    30    33    36    39    42    45    48    51    54    57    60  \n",
      "4  |   4     8    12    16    20    24    28    32    36    40    44    48    52    56    60    64    68    72    76    80  \n",
      "5  |   5    10    15    20    25    30    35    40    45    50    55    60    65    70    75    80    85    90    95   100  \n",
      "6  |   6    12    18    24    30    36    42    48    54    60    66    72    78    84    90    96   102   108   114   120  \n",
      "7  |   7    14    21    28    35    42    49    56    63    70    77    84    91    98   105   112   119   126   133   140  \n",
      "8  |   8    16    24    32    40    48    56    64    72    80    88    96   104   112   120   128   136   144   152   160  \n",
      "9  |   9    18    27    36    45    54    63    72    81    90    99   108   117   126   135   144   153   162   171   180  \n",
      "10 |  10    20    30    40    50    60    70    80    90   100   110   120   130   140   150   160   170   180   190   200  \n",
      "11 |  11    22    33    44    55    66    77    88    99   110   121   132   143   154   165   176   187   198   209   220  \n",
      "12 |  12    24    36    48    60    72    84    96   108   120   132   144   156   168   180   192   204   216   228   240  \n",
      "13 |  13    26    39    52    65    78    91   104   117   130   143   156   169   182   195   208   221   234   247   260  \n",
      "14 |  14    28    42    56    70    84    98   112   126   140   154   168   182   196   210   224   238   252   266   280  \n",
      "15 |  15    30    45    60    75    90   105   120   135   150   165   180   195   210   225   240   255   270   285   300  \n",
      "16 |  16    32    48    64    80    96   112   128   144   160   176   192   208   224   240   256   272   288   304   320  \n",
      "17 |  17    34    51    68    85   102   119   136   153   170   187   204   221   238   255   272   289   306   323   340  \n",
      "18 |  18    36    54    72    90   108   126   144   162   180   198   216   234   252   270   288   306   324   342   360  \n",
      "19 |  19    38    57    76    95   114   133   152   171   190   209   228   247   266   285   304   323   342   361   380  \n",
      "20 |  20    40    60    80   100   120   140   160   180   200   220   240   260   280   300   320   340   360   380   400  \n"
     ]
    }
   ],
   "source": [
    "#20 x 20 multiplication table\n",
    "\n",
    "for i in range(1,21):\n",
    "    print('{:<3}|'.format(i), end = \"\")\n",
    "    \n",
    "    for j in range(1,21):\n",
    "        print('{:>4}'.format(i*j),end=\"  \")\n",
    "        \n",
    "    if i == 1:\n",
    "        print('\\n{:#^124}'.format(\"\"),end = \" \")\n",
    "        \n",
    "    print(\"\")"
   ]
  },
  {
   "cell_type": "code",
   "execution_count": 25,
   "metadata": {},
   "outputs": [
    {
     "name": "stdout",
     "output_type": "stream",
     "text": [
      "1  |    1    2    3    4    5    6    7    8    9   10 \n",
      "############################## ###############################  \n",
      "2  |    2    4    6    8   10   12   14   16   18   20  \n",
      "3  |    3    6    9   12   15   18   21   24   27   30  \n",
      "4  |    4    8   12   16   20   24   28   32   36   40  \n",
      "5  |    5   10   15   20   25   30   35   40   45   50  \n",
      "6  |    6   12   18   24   30   36   42   48   54   60  \n",
      "7  |    7   14   21   28   35   42   49   56   63   70  \n",
      "8  |    8   16   24   32   40   48   56   64   72   80  \n",
      "9  |    9   18   27   36   45   54   63   72   81   90  \n",
      "10 |   10   20   30   40   50   60   70   80   90  100  \n"
     ]
    }
   ],
   "source": [
    "for i in range(1,11):\n",
    "    print('{:<3}|'.format(i), end = \" \")\n",
    "    for j in range(1,11):\n",
    "        print('{:>4}'.format(i*j), end = \" \")\n",
    "    if i == 1:\n",
    "        print('\\n{:#^62}'.format(\" \"), end = \" \")\n",
    "    print(\" \")"
   ]
  },
  {
   "cell_type": "code",
   "execution_count": null,
   "metadata": {
    "collapsed": true
   },
   "outputs": [],
   "source": []
  }
 ],
 "metadata": {
  "kernelspec": {
   "display_name": "Python 3",
   "language": "python",
   "name": "python3"
  },
  "language_info": {
   "codemirror_mode": {
    "name": "ipython",
    "version": 3
   },
   "file_extension": ".py",
   "mimetype": "text/x-python",
   "name": "python",
   "nbconvert_exporter": "python",
   "pygments_lexer": "ipython3",
   "version": "3.6.2"
  }
 },
 "nbformat": 4,
 "nbformat_minor": 2
}
