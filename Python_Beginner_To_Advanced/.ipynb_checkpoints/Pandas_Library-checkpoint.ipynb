{
 "cells": [
  {
   "cell_type": "code",
   "execution_count": 9,
   "metadata": {},
   "outputs": [
    {
     "name": "stdout",
     "output_type": "stream",
     "text": [
      "0      112\n",
      "1      118\n",
      "2      132\n",
      "3      129\n",
      "4      121\n",
      "5      135\n",
      "6      148\n",
      "7      148\n",
      "8      136\n",
      "9      119\n",
      "10     104\n",
      "11     118\n",
      "12     115\n",
      "13     126\n",
      "14     141\n",
      "15     135\n",
      "16     125\n",
      "17     149\n",
      "18     170\n",
      "19     170\n",
      "20     158\n",
      "21     133\n",
      "22     114\n",
      "23     140\n",
      "24     145\n",
      "25     150\n",
      "26     178\n",
      "27     163\n",
      "28     172\n",
      "29     178\n",
      "      ... \n",
      "114    491\n",
      "115    505\n",
      "116    404\n",
      "117    359\n",
      "118    310\n",
      "119    337\n",
      "120    360\n",
      "121    342\n",
      "122    406\n",
      "123    396\n",
      "124    420\n",
      "125    472\n",
      "126    548\n",
      "127    559\n",
      "128    463\n",
      "129    407\n",
      "130    362\n",
      "131    405\n",
      "132    417\n",
      "133    391\n",
      "134    419\n",
      "135    461\n",
      "136    472\n",
      "137    535\n",
      "138    622\n",
      "139    606\n",
      "140    508\n",
      "141    461\n",
      "142    390\n",
      "143    432\n",
      "Name: AirPassengers, Length: 144, dtype: int64\n",
      "1960.25\n"
     ]
    }
   ],
   "source": [
    "import pandas as pd\n",
    "df = pd.read_csv('AirPassengers.csv')\n",
    "print(df['AirPassengers'])\n",
    "print(df['time'][135])\n"
   ]
  },
  {
   "cell_type": "code",
   "execution_count": 10,
   "metadata": {
    "collapsed": true
   },
   "outputs": [],
   "source": [
    "names = ['Wade','James', 'Kobe','Curry']\n",
    "total = [55,50,44,36]\n",
    "data_set = list(zip(names,total))\n",
    "data_frame = pd.DataFrame(data = data_set, columns = ['Names', 'Total'])\n",
    "data_frame.to_csv('points.csv',index = True, header = True)"
   ]
  },
  {
   "cell_type": "code",
   "execution_count": null,
   "metadata": {
    "collapsed": true
   },
   "outputs": [],
   "source": []
  }
 ],
 "metadata": {
  "kernelspec": {
   "display_name": "Python 3",
   "language": "python",
   "name": "python3"
  },
  "language_info": {
   "codemirror_mode": {
    "name": "ipython",
    "version": 3
   },
   "file_extension": ".py",
   "mimetype": "text/x-python",
   "name": "python",
   "nbconvert_exporter": "python",
   "pygments_lexer": "ipython3",
   "version": "3.6.2"
  }
 },
 "nbformat": 4,
 "nbformat_minor": 2
}
