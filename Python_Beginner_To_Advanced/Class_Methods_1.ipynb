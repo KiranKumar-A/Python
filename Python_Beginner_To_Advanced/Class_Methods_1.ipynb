{
 "cells": [
  {
   "cell_type": "code",
   "execution_count": null,
   "metadata": {
    "collapsed": true
   },
   "outputs": [],
   "source": [
    "#ClassMethods1: Special functions inside the body of a class"
   ]
  },
  {
   "cell_type": "code",
   "execution_count": 1,
   "metadata": {},
   "outputs": [
    {
     "name": "stdout",
     "output_type": "stream",
     "text": [
      "2.5 5.2\n"
     ]
    }
   ],
   "source": [
    "class Complex:\n",
    "    'this class simulates complex numbers'\n",
    "    def __init__(self,real=0,imag=0):\n",
    "        if(type(real) not in (int, float)) or type(imag) not in (int,float):\n",
    "            raise Exception('Args are not in numbers!')\n",
    "        \n",
    "        self.real = real\n",
    "        self.imag = imag\n",
    "    def GetReal(self):\n",
    "        return self.real\n",
    "    def GetImag(self):\n",
    "        return self.imag\n",
    "\n",
    "c = Complex(2.5,5.2)\n",
    "print(c.GetReal(),c.GetImag())\n"
   ]
  },
  {
   "cell_type": "code",
   "execution_count": 4,
   "metadata": {},
   "outputs": [
    {
     "name": "stdout",
     "output_type": "stream",
     "text": [
      "2 1\n"
     ]
    }
   ],
   "source": [
    "class Complex:\n",
    "    'this class simulates complex numbers'\n",
    "    def __init__(self,real=0,imag=0):\n",
    "        if(type(real) not in (int, float)) or type(imag) not in (int,float):\n",
    "            raise Exception('Args are not in numbers!')\n",
    "        \n",
    "        self.real = real\n",
    "        self.imag = imag\n",
    "    def GetReal(self):\n",
    "        return self.real\n",
    "    def GetImag(self):\n",
    "        return self.imag\n",
    "    def SetReal(self,val):\n",
    "        self.real = val\n",
    "    def SetImag(self,val):\n",
    "        self.imag = val\n",
    "        \n",
    "c = Complex()\n",
    "c.SetImag(1)\n",
    "c.SetReal(2)\n",
    "print(c.GetReal(), c.GetImag())"
   ]
  },
  {
   "cell_type": "code",
   "execution_count": 5,
   "metadata": {
    "collapsed": true
   },
   "outputs": [],
   "source": [
    "#Class Methods Part 2"
   ]
  },
  {
   "cell_type": "code",
   "execution_count": 11,
   "metadata": {},
   "outputs": [
    {
     "name": "stdout",
     "output_type": "stream",
     "text": [
      "real part must be a number\n"
     ]
    }
   ],
   "source": [
    "class Complex:\n",
    "    'this class simulates complex numbers'\n",
    "    def __init__(self,real=0,imag=0):\n",
    "        if(type(real) not in (int, float)) or type(imag) not in (int,float):\n",
    "            raise Exception('Args are not in numbers!')\n",
    "        \n",
    "        self.__real = real\n",
    "        self.__imag = imag\n",
    "    def GetReal(self):\n",
    "        return self.__real\n",
    "    def GetImag(self):\n",
    "        return self.__imag\n",
    "    def SetReal(self,val):\n",
    "        if type(val) not in (int,float):\n",
    "            raise Exception('real part must be a number')\n",
    "        self.__real = val\n",
    "    def SetImag(self,val):\n",
    "        if type(val) not in (int,float):\n",
    "            raise Exception('imag part must be a number')\n",
    "        self.__imag = val\n",
    "        \n",
    "c = Complex()\n",
    "\n",
    "try:\n",
    "    c.SetReal((1,2,3))\n",
    "except Exception as e:\n",
    "    print(e)"
   ]
  },
  {
   "cell_type": "code",
   "execution_count": 12,
   "metadata": {},
   "outputs": [
    {
     "name": "stdout",
     "output_type": "stream",
     "text": [
      "'Complex' object has no attribute '__real'\n"
     ]
    }
   ],
   "source": [
    "class Complex:\n",
    "    'this class simulates complex numbers'\n",
    "    def __init__(self,real=0,imag=0):\n",
    "        if(type(real) not in (int, float)) or type(imag) not in (int,float):\n",
    "            raise Exception('Args are not in numbers!')\n",
    "        \n",
    "        self.__real = real\n",
    "        self.__imag = imag\n",
    "    def GetReal(self):\n",
    "        return self.__real\n",
    "    def GetImag(self):\n",
    "        return self.__imag\n",
    "    def SetReal(self,val):\n",
    "        if type(val) not in (int,float):\n",
    "            raise Exception('real part must be a number')\n",
    "        self.__real = val\n",
    "    def SetImag(self,val):\n",
    "        if type(val) not in (int,float):\n",
    "            raise Exception('imag part must be a number')\n",
    "        self.__imag = val\n",
    "        \n",
    "c = Complex()\n",
    "\n",
    "try:\n",
    "    c.__real\n",
    "except Exception as e:\n",
    "    print(e)"
   ]
  },
  {
   "cell_type": "code",
   "execution_count": 1,
   "metadata": {},
   "outputs": [
    {
     "name": "stdout",
     "output_type": "stream",
     "text": [
      "5.0 2.214297435588181\n"
     ]
    }
   ],
   "source": [
    "import math\n",
    "class Complex:\n",
    "    'this class simulates complex numbers'\n",
    "    def __init__(self,real=0,imag=0):\n",
    "        if(type(real) not in (int, float)) or type(imag) not in (int,float):\n",
    "            raise Exception('Args are not in numbers!')\n",
    "        \n",
    "        self.__real = real\n",
    "        self.__imag = imag\n",
    "        \n",
    "    def GetReal(self):\n",
    "        return self.__real\n",
    "    \n",
    "    def GetImag(self):\n",
    "        return self.__imag\n",
    "    \n",
    "    def GetModulus(self):\n",
    "        return math.sqrt(self.GetReal() * self.GetReal() + self.GetImag() * self.GetImag())\n",
    "    \n",
    "    def GetPhi(self):\n",
    "        return math.atan2(self.GetImag(),self.GetReal())\n",
    "    \n",
    "    def SetReal(self,val):\n",
    "        if type(val) not in (int,float):\n",
    "            raise Exception('real part must be a number')\n",
    "        self.__real = val\n",
    "        \n",
    "    def SetImag(self,val):\n",
    "        if type(val) not in (int,float):\n",
    "            raise Exception('imag part must be a number')\n",
    "        self.__imag = val\n",
    "\n",
    "\n",
    "c = Complex(-3,4)\n",
    "\n",
    "print(c.GetModulus(), c.GetPhi())\n",
    "        \n"
   ]
  },
  {
   "cell_type": "code",
   "execution_count": 2,
   "metadata": {},
   "outputs": [
    {
     "name": "stdout",
     "output_type": "stream",
     "text": [
      "5.0 2.214297435588181\n"
     ]
    }
   ],
   "source": [
    "import math\n",
    "class Complex:\n",
    "    'this class simulates complex numbers'\n",
    "    def __init__(self,real=0,imag=0):\n",
    "        if(type(real) not in (int, float)) or type(imag) not in (int,float):\n",
    "            raise Exception('Args are not in numbers!')\n",
    "        \n",
    "        self.SetReal(real)\n",
    "        self.SetImag(imag)\n",
    "        \n",
    "    def GetReal(self):\n",
    "        return self.__real\n",
    "    \n",
    "    def GetImag(self):\n",
    "        return self.__imag\n",
    "    \n",
    "    def GetModulus(self):\n",
    "        return math.sqrt(self.GetReal() * self.GetReal() + self.GetImag() * self.GetImag())\n",
    "    \n",
    "    def GetPhi(self):\n",
    "        return math.atan2(self.GetImag(),self.GetReal())\n",
    "    \n",
    "    def SetReal(self,val):\n",
    "        if type(val) not in (int,float):\n",
    "            raise Exception('real part must be a number')\n",
    "        self.__real = val\n",
    "        \n",
    "    def SetImag(self,val):\n",
    "        if type(val) not in (int,float):\n",
    "            raise Exception('imag part must be a number')\n",
    "        self.__imag = val\n",
    "\n",
    "\n",
    "c = Complex(-3,4)\n",
    "\n",
    "print(c.GetModulus(), c.GetPhi())\n",
    "        \n"
   ]
  },
  {
   "cell_type": "code",
   "execution_count": 3,
   "metadata": {
    "collapsed": true
   },
   "outputs": [],
   "source": [
    "#Operator Overloading\n",
    "# *,/,+,[]"
   ]
  },
  {
   "cell_type": "code",
   "execution_count": 11,
   "metadata": {},
   "outputs": [
    {
     "name": "stdout",
     "output_type": "stream",
     "text": [
      "2+4.3i\n",
      "-16.2+-13.8i\n",
      "10+0.6i\n",
      "-0.552+-0.836i\n",
      "-1.5+2.0i\n"
     ]
    }
   ],
   "source": [
    "import math\n",
    "class Complex:\n",
    "    'this class simulates complex numbers'\n",
    "    def __init__(self,real=0,imag=0):\n",
    "        if(type(real) not in (int, float)) or type(imag) not in (int,float):\n",
    "            raise Exception('Args are not in numbers!')\n",
    "        \n",
    "        self.__real = real\n",
    "        self.__imag = imag\n",
    "        \n",
    "    def GetReal(self):\n",
    "        return self.__real\n",
    "    \n",
    "    def GetImag(self):\n",
    "        return self.__imag\n",
    "    \n",
    "    def GetModulus(self):\n",
    "        return math.sqrt(self.GetReal() * self.GetReal() + self.GetImag() * self.GetImag())\n",
    "    \n",
    "    def GetPhi(self):\n",
    "        return math.atan2(self.GetImag(),self.GetReal())\n",
    "    \n",
    "    def SetReal(self,val):\n",
    "        if type(val) not in (int,float):\n",
    "            raise Exception('real part must be a number')\n",
    "        self.__real = val\n",
    "        \n",
    "    def SetImag(self,val):\n",
    "        if type(val) not in (int,float):\n",
    "            raise Exception('imag part must be a number')\n",
    "        self.__imag = val\n",
    "    \n",
    "    def __str__(self):\n",
    "        return str(self.GetReal()) + '+' + str(self.GetImag()) + 'i';\n",
    "    \n",
    "    def __add__(self,other):\n",
    "        return Complex(self.GetReal() + other.GetReal(), self.GetImag() + other.GetImag())\n",
    "    \n",
    "    def __mul__(self, other):\n",
    "        if type(other) in (int,float):\n",
    "            return Complex(self.GetReal()* other, self.GetImag()*other)\n",
    "        else:\n",
    "            return Complex(self.GetReal() * other.GetReal()- self.GetImag() * other.GetImag(), self.GetImag() * other.GetImag()+self.GetReal() * other.GetReal())\n",
    "        \n",
    "    def __truediv__(self, other):\n",
    "        if type(other) in (int, float):\n",
    "            return Complex(self.GetReal()/ float(other), self.GetImag()/float(other))\n",
    "        else:\n",
    "            a, b, c, d = self.GetReal(), self.GetImag(), other.GetReal(), other.GetImag()\n",
    "            nominator = c * c + d * d\n",
    "            return Complex((a*c + b*d)/nominator,(b*c - a*d)/nominator)\n",
    "        \n",
    "\n",
    "\n",
    "a = Complex(5, 0.3)\n",
    "b = Complex(-3,4)\n",
    "\n",
    "print(a + b)\n",
    "print(a * b)\n",
    "print(a * 2)\n",
    "\n",
    "print(a/b)\n",
    "print(b/2)"
   ]
  },
  {
   "cell_type": "code",
   "execution_count": null,
   "metadata": {
    "collapsed": true
   },
   "outputs": [],
   "source": []
  }
 ],
 "metadata": {
  "kernelspec": {
   "display_name": "Python 3",
   "language": "python",
   "name": "python3"
  },
  "language_info": {
   "codemirror_mode": {
    "name": "ipython",
    "version": 3
   },
   "file_extension": ".py",
   "mimetype": "text/x-python",
   "name": "python",
   "nbconvert_exporter": "python",
   "pygments_lexer": "ipython3",
   "version": "3.6.2"
  }
 },
 "nbformat": 4,
 "nbformat_minor": 2
}
