{
 "cells": [
  {
   "cell_type": "code",
   "execution_count": 1,
   "metadata": {
    "collapsed": true
   },
   "outputs": [],
   "source": [
    "#Data Input"
   ]
  },
  {
   "cell_type": "code",
   "execution_count": 2,
   "metadata": {},
   "outputs": [
    {
     "name": "stdout",
     "output_type": "stream",
     "text": [
      "How old are you?: 25\n",
      "25\n"
     ]
    }
   ],
   "source": [
    "age = input(\"How old are you?: \")\n",
    "print(age)"
   ]
  },
  {
   "cell_type": "code",
   "execution_count": 5,
   "metadata": {},
   "outputs": [
    {
     "name": "stdout",
     "output_type": "stream",
     "text": [
      "How old are you? 35\n",
      "My age is 35\n"
     ]
    }
   ],
   "source": [
    "age = input(\"How old are you? \")\n",
    "print(\"My age is\", age)"
   ]
  },
  {
   "cell_type": "code",
   "execution_count": 7,
   "metadata": {
    "collapsed": true
   },
   "outputs": [],
   "source": [
    "#File Management and Reading\n",
    "#Open(Filename, access, buffering)"
   ]
  },
  {
   "cell_type": "code",
   "execution_count": 12,
   "metadata": {},
   "outputs": [
    {
     "name": "stdout",
     "output_type": "stream",
     "text": [
      "a, b, c\n",
      "\n"
     ]
    }
   ],
   "source": [
    "file = open(\"G:\\\\UDEMY\\\\PYTHON\\\\Python_Beginner_To_Advanced\\\\Sample.txt\", \"r\")\n",
    "print(file.read())\n",
    "file.close()"
   ]
  },
  {
   "cell_type": "code",
   "execution_count": 14,
   "metadata": {},
   "outputs": [
    {
     "name": "stdout",
     "output_type": "stream",
     "text": [
      "a, b\n"
     ]
    }
   ],
   "source": [
    "file = open(\"G:\\\\UDEMY\\\\PYTHON\\\\Python_Beginner_To_Advanced\\\\Sample.txt\", \"r\")\n",
    "print(file.read(4))\n",
    "file.close()"
   ]
  },
  {
   "cell_type": "code",
   "execution_count": 15,
   "metadata": {},
   "outputs": [
    {
     "name": "stdout",
     "output_type": "stream",
     "text": [
      "a, b,\n",
      "5\n"
     ]
    }
   ],
   "source": [
    "file = open(\"G:\\\\UDEMY\\\\PYTHON\\\\Python_Beginner_To_Advanced\\\\Sample.txt\", \"r\")\n",
    "print(file.read(5))\n",
    "print(file.tell())\n",
    "file.close()"
   ]
  },
  {
   "cell_type": "code",
   "execution_count": 18,
   "metadata": {},
   "outputs": [
    {
     "name": "stdout",
     "output_type": "stream",
     "text": [
      "a, b,\n",
      "7\n"
     ]
    }
   ],
   "source": [
    "file = open(\"G:\\\\UDEMY\\\\PYTHON\\\\Python_Beginner_To_Advanced\\\\Sample.txt\", \"r\")\n",
    "print(file.read(5))\n",
    "file.seek(7)\n",
    "print(file.tell())\n",
    "\n",
    "file.close()"
   ]
  },
  {
   "cell_type": "code",
   "execution_count": 19,
   "metadata": {},
   "outputs": [
    {
     "name": "stdout",
     "output_type": "stream",
     "text": [
      "Hello\n",
      "\n",
      "How\n",
      "\n",
      "line\n",
      "\n",
      "light\n",
      "\n",
      "lime\n",
      "\n"
     ]
    }
   ],
   "source": [
    "file = open(\"G:\\\\UDEMY\\\\PYTHON\\\\Python_Beginner_To_Advanced\\\\Sample.txt\", \"r\")\n",
    "for line in file:\n",
    "    print(line)\n",
    "file.close()\n"
   ]
  },
  {
   "cell_type": "code",
   "execution_count": 21,
   "metadata": {},
   "outputs": [
    {
     "name": "stdout",
     "output_type": "stream",
     "text": [
      "File Name: G:\\UDEMY\\PYTHON\\Python_Beginner_To_Advanced\\Sample.txt\n",
      "is closed: False\n",
      "Mode r\n"
     ]
    }
   ],
   "source": [
    "file = open(\"G:\\\\UDEMY\\\\PYTHON\\\\Python_Beginner_To_Advanced\\\\Sample.txt\", \"r\")\n",
    "print(\"File Name: \" + file.name)\n",
    "print(\"is closed: \" + str(file.closed))\n",
    "print(\"Mode \" + file.mode)"
   ]
  },
  {
   "cell_type": "code",
   "execution_count": 22,
   "metadata": {
    "collapsed": true
   },
   "outputs": [],
   "source": [
    "#File Management Writing"
   ]
  },
  {
   "cell_type": "code",
   "execution_count": 26,
   "metadata": {},
   "outputs": [
    {
     "name": "stdout",
     "output_type": "stream",
     "text": [
      "thiso file, I am string!\n"
     ]
    },
    {
     "data": {
      "text/plain": [
       "<function TextIOWrapper.close>"
      ]
     },
     "execution_count": 26,
     "metadata": {},
     "output_type": "execute_result"
    }
   ],
   "source": [
    "file = open(\"Write.txt\", \"w+\")\n",
    "file.write(\"Hello file, I am string!\")\n",
    "file.seek(0)\n",
    "file.write(\"this\")\n",
    "file.seek(0)\n",
    "print(file.read())\n",
    "file.close"
   ]
  },
  {
   "cell_type": "code",
   "execution_count": null,
   "metadata": {
    "collapsed": true
   },
   "outputs": [],
   "source": []
  },
  {
   "cell_type": "code",
   "execution_count": null,
   "metadata": {
    "collapsed": true
   },
   "outputs": [],
   "source": []
  }
 ],
 "metadata": {
  "kernelspec": {
   "display_name": "Python 3",
   "language": "python",
   "name": "python3"
  },
  "language_info": {
   "codemirror_mode": {
    "name": "ipython",
    "version": 3
   },
   "file_extension": ".py",
   "mimetype": "text/x-python",
   "name": "python",
   "nbconvert_exporter": "python",
   "pygments_lexer": "ipython3",
   "version": "3.6.2"
  }
 },
 "nbformat": 4,
 "nbformat_minor": 2
}
