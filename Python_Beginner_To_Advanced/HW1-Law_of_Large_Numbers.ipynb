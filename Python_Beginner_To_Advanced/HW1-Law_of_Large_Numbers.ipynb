{
 "cells": [
  {
   "cell_type": "markdown",
   "metadata": {},
   "source": [
    "### Test the Law Of Large Numbers for N random normally distributed numbers with mean = 0, stdev = 1:\n",
    "Create a Python script that will count how many of these numbers fall between -1\n",
    "and 1 and divide by the total quantity of N\n",
    "You know that E(X) = 68.2%\n",
    "Check that Mean(XN) -> E(X) as you rerun your script while increasing N"
   ]
  },
  {
   "cell_type": "code",
   "execution_count": 3,
   "metadata": {},
   "outputs": [],
   "source": [
    "import numpy as np\n",
    "from numpy.random import randn"
   ]
  },
  {
   "cell_type": "code",
   "execution_count": 5,
   "metadata": {},
   "outputs": [
    {
     "data": {
      "text/plain": [
       "array([-3.15476352e-01,  7.38077547e-02, -1.16270149e+00, -1.52028349e+00,\n",
       "       -1.62330475e+00, -9.02201890e-01,  7.04284913e-01, -1.68845136e+00,\n",
       "       -1.27303099e-01, -8.14782092e-01,  9.84084567e-02, -9.47252821e-01,\n",
       "        1.05694456e+00, -9.40143440e-01, -5.45330011e-01,  7.98862699e-01,\n",
       "        6.47110331e-01, -1.65032210e+00, -1.07664612e+00,  6.11976954e-01,\n",
       "       -2.26733997e+00, -5.36717625e-02,  1.34181270e+00, -1.35807951e+00,\n",
       "        1.07477274e+00,  2.32193511e+00, -2.44044413e-01,  3.25138751e-01,\n",
       "       -1.12063280e-01, -4.85965600e-01, -1.06134290e+00,  1.90623688e-01,\n",
       "        3.52549105e-01,  9.89720649e-01, -4.49501264e-01, -5.56227435e-01,\n",
       "       -4.93639012e-04,  9.04566451e-01,  3.98440911e-01, -9.66227149e-01,\n",
       "        2.01929587e+00,  3.47051038e-01,  2.55777881e-02,  4.35383307e-01,\n",
       "        4.90695149e-01, -5.24743447e-01, -5.93589154e-01, -2.90123301e-01,\n",
       "       -4.84089106e-01,  6.04547171e-01, -8.81528090e-01,  6.09490884e-01,\n",
       "       -1.71681050e-01, -5.93345511e-01, -1.49887417e-01, -6.21936932e-02,\n",
       "        2.05226249e+00, -1.63836795e+00, -1.00281300e+00,  6.90936771e-01,\n",
       "        5.66390905e-02, -1.23101608e+00, -1.04287956e+00, -2.30903621e-01,\n",
       "        2.78278045e+00, -6.40805153e-01,  4.59528440e-01, -1.00917773e+00,\n",
       "        2.21696797e-01, -1.65685719e+00, -4.36768305e-01, -8.32314578e-01,\n",
       "       -1.81072605e-01, -9.44881158e-01,  1.68501577e+00,  8.97209468e-01,\n",
       "       -5.01237687e-01,  1.63863787e+00, -8.19731738e-01,  9.30299936e-02,\n",
       "        1.25828614e+00, -1.35848076e+00, -4.25016857e-01,  9.08805266e-01,\n",
       "       -2.46529064e+00,  6.97668515e-02, -1.78574187e+00, -6.76902905e-01,\n",
       "       -2.09899034e-01,  7.31930809e-01,  5.26622193e-01, -4.81751250e-01,\n",
       "       -5.54380843e-01,  1.59350524e+00, -5.94798240e-02,  3.96552140e-01,\n",
       "       -9.41738295e-01, -1.54668907e+00,  1.20993234e-01, -5.29555520e-01])"
      ]
     },
     "execution_count": 5,
     "metadata": {},
     "output_type": "execute_result"
    }
   ],
   "source": [
    "randn(100)"
   ]
  },
  {
   "cell_type": "code",
   "execution_count": 65,
   "metadata": {},
   "outputs": [
    {
     "name": "stdout",
     "output_type": "stream",
     "text": [
      "0.684\n"
     ]
    }
   ],
   "source": [
    "N = 1000\n",
    "counter = 0\n",
    "for i in randn(N):\n",
    "    if (i > -1 and  i < 1): \n",
    "        counter = counter + 1\n",
    "\n",
    "answer = counter/N\n",
    "print(answer)\n",
    "        "
   ]
  },
  {
   "cell_type": "code",
   "execution_count": null,
   "metadata": {
    "collapsed": true
   },
   "outputs": [],
   "source": []
  }
 ],
 "metadata": {
  "kernelspec": {
   "display_name": "Python 3",
   "language": "python",
   "name": "python3"
  },
  "language_info": {
   "codemirror_mode": {
    "name": "ipython",
    "version": 3
   },
   "file_extension": ".py",
   "mimetype": "text/x-python",
   "name": "python",
   "nbconvert_exporter": "python",
   "pygments_lexer": "ipython3",
   "version": "3.6.4"
  }
 },
 "nbformat": 4,
 "nbformat_minor": 2
}
